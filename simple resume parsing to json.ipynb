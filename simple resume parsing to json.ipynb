{
 "cells": [
  {
   "cell_type": "code",
   "execution_count": 61,
   "id": "53cc0979",
   "metadata": {},
   "outputs": [],
   "source": [
    "import json\n",
    "from typing import Dict"
   ]
  },
  {
   "cell_type": "code",
   "execution_count": 62,
   "id": "99f74fe5",
   "metadata": {},
   "outputs": [],
   "source": [
    "def parse_resume(resume_text: str) -> Dict:\n",
    "    # Implement your parsing logic here\n",
    "    parsed_data = {\n",
    "        \"name\": \"T S Sowmya\",\n",
    "        \"email\": \"st8696@srmist.edu.in\",\n",
    "        \"phone\": \"NA\",\n",
    "        \"education\": [\n",
    "            {\n",
    "                \"degree\": \"B.Tech\",\n",
    "                \"major\": \"CSE AIML\",\n",
    "                \"university\": \"SRM\",\n",
    "                \"year\": \"2025\"\n",
    "            }\n",
    "        ],\n",
    "        \"experience\": [\n",
    "            {\n",
    "                \"title\": \"AI Intern\",\n",
    "                \"company\": \"Pantech eLearning\",\n",
    "                \"location\": \"Remote\",\n",
    "                \"dates\": \"June 2023 - Aug 2023\",\n",
    "                \"description\": \"Worked on real time projects using AI techniques. Developed various models based on Machine Learning, Deep Learning, Computer Vision and Natural Language Processing.Acquired knowledge on various python libraries  like sklearn, tensorflow, keras and opencv.\"\n",
    "            }\n",
    "        ],\n",
    "        \"skills\": [\"Python\", \"AI\", \"ML\",\"DL\", \"NLP\"]\n",
    "    }\n",
    "    return parsed_data"
   ]
  },
  {
   "cell_type": "code",
   "execution_count": 63,
   "id": "8bacc526",
   "metadata": {},
   "outputs": [],
   "source": [
    "# Example usage\n",
    "resume_text = \"\"\"\n",
    "T S Sowmya\n",
    "Email: st8696@srmist.edu.in\n",
    "Phone: NA\n",
    "\n",
    "Education:\n",
    "B Tech\n",
    "SRM, 2025\n",
    "\n",
    "Experience:\n",
    "AI Intern\n",
    "Pantech eLearning, Remote\n",
    "June 2023 - August 2023\n",
    "- Worked on real time projects using AI techniques. Developed various models based on Machine Learning, Deep Learning, Computer Vision and Natural Language Processing.Acquired knowledge on various python libraries  like sklearn, tensorflow, keras and opencv.\n",
    "\n",
    "Skills:\n",
    "Python, AI, ML, DL, NLP\n",
    "\"\"\""
   ]
  },
  {
   "cell_type": "code",
   "execution_count": 64,
   "id": "2ee4d83f",
   "metadata": {},
   "outputs": [
    {
     "name": "stdout",
     "output_type": "stream",
     "text": [
      "{\n",
      "    \"name\": \"T S Sowmya\",\n",
      "    \"email\": \"st8696@srmist.edu.in\",\n",
      "    \"phone\": \"NA\",\n",
      "    \"education\": [\n",
      "        {\n",
      "            \"degree\": \"B.Tech\",\n",
      "            \"major\": \"CSE AIML\",\n",
      "            \"university\": \"SRM\",\n",
      "            \"year\": \"2025\"\n",
      "        }\n",
      "    ],\n",
      "    \"experience\": [\n",
      "        {\n",
      "            \"title\": \"AI Intern\",\n",
      "            \"company\": \"Pantech eLearning\",\n",
      "            \"location\": \"Remote\",\n",
      "            \"dates\": \"June 2023 - Aug 2023\",\n",
      "            \"description\": \"Worked on real time projects using AI techniques. Developed various models based on Machine Learning, Deep Learning, Computer Vision and Natural Language Processing.Acquired knowledge on various python libraries  like sklearn, tensorflow, keras and opencv.\"\n",
      "        }\n",
      "    ],\n",
      "    \"skills\": [\n",
      "        \"Python\",\n",
      "        \"AI\",\n",
      "        \"ML\",\n",
      "        \"DL\",\n",
      "        \"NLP\"\n",
      "    ]\n",
      "}\n"
     ]
    }
   ],
   "source": [
    "parsed_resume = parse_resume(resume_text)\n",
    "# Convert to JSON format\n",
    "resume_json = json.dumps(parsed_resume, indent=4)\n",
    "print(resume_json)"
   ]
  },
  {
   "cell_type": "code",
   "execution_count": null,
   "id": "bc798112",
   "metadata": {},
   "outputs": [],
   "source": []
  }
 ],
 "metadata": {
  "kernelspec": {
   "display_name": "Python 3 (ipykernel)",
   "language": "python",
   "name": "python3"
  },
  "language_info": {
   "codemirror_mode": {
    "name": "ipython",
    "version": 3
   },
   "file_extension": ".py",
   "mimetype": "text/x-python",
   "name": "python",
   "nbconvert_exporter": "python",
   "pygments_lexer": "ipython3",
   "version": "3.11.5"
  }
 },
 "nbformat": 4,
 "nbformat_minor": 5
}
